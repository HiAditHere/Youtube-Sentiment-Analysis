{
 "cells": [
  {
   "cell_type": "code",
   "execution_count": 1,
   "id": "1bf93a72",
   "metadata": {},
   "outputs": [],
   "source": [
    "import pandas as pd\n",
    "import boto3"
   ]
  },
  {
   "cell_type": "code",
   "execution_count": null,
   "id": "49025b23",
   "metadata": {},
   "outputs": [],
   "source": [
    "s3 = boto3.resource(\"s3\")\n",
    "\n",
    "for i in s3.buckets.all():\n",
    "    bucket_name = i.name"
   ]
  },
  {
   "cell_type": "code",
   "execution_count": null,
   "id": "941f0f45",
   "metadata": {},
   "outputs": [],
   "source": [
    "title = 'Tottenham vs Barcelona 2-4 | Extended highlights & Goals | UCL 2018'\n",
    "\n",
    "s3_client = boto3.client(\"s3\")\n",
    "\n",
    "s3_client.download_file(\n",
    "    Filename = 'downloaded_file.csv',\n",
    "    Bucket = bucket_name,\n",
    "    Key = title + \".csv\"\n",
    ")"
   ]
  },
  {
   "cell_type": "code",
   "execution_count": null,
   "id": "b3b76a56",
   "metadata": {},
   "outputs": [],
   "source": [
    "df = pd.read_csv('downloaded_file.csv')"
   ]
  },
  {
   "cell_type": "code",
   "execution_count": null,
   "id": "3e9e2f9b",
   "metadata": {},
   "outputs": [],
   "source": [
    "df.head(5)"
   ]
  },
  {
   "cell_type": "code",
   "execution_count": null,
   "id": "084e9ea3",
   "metadata": {},
   "outputs": [],
   "source": [
    "df.drop(columns = ['Unnamed: 0'], inplace = True)"
   ]
  },
  {
   "cell_type": "code",
   "execution_count": null,
   "id": "a44cdea6",
   "metadata": {},
   "outputs": [],
   "source": [
    "df"
   ]
  },
  {
   "cell_type": "code",
   "execution_count": null,
   "id": "fde5aac8",
   "metadata": {},
   "outputs": [],
   "source": [
    "from nltk.corpus import stopwords\n",
    "import string\n",
    "\n",
    "#split tokens on white tokens\n",
    "def split_tokens(sent):\n",
    "    tokens = sent.split()\n",
    "    return tokens\n",
    "\n",
    "#remove all punctuations from words\n",
    "\n",
    "def remove_punctuations(tokens):\n",
    "    table = str.maketrans('','', string.punctuation)\n",
    "    tokens = [word.translate(table) for word in tokens]\n",
    "    return tokens\n",
    "\n",
    "#remove all non alphabets\n",
    "\n",
    "def remove_non_alphabetic(tokens):\n",
    "    tokens = [word for word in tokens if word.isalpha()]\n",
    "    return tokens\n",
    "\n",
    "#remove all stop words\n",
    "\n",
    "stop_words = set(stopwords.words('english'))\n",
    "\n",
    "def remove_tokens(tokens):\n",
    "    tokens = [word for word in tokens if not word in stop_words]\n",
    "    return tokens\n",
    "\n",
    "#remove all short tokens\n",
    "\n",
    "def remove_short_tokens(tokens):\n",
    "    tokens = [word for word in tokens if len(word)>1]\n",
    "    return tokens\n",
    "\n",
    "#clean df function which incorporates all the above functions\n",
    "\n",
    "def clean_df(df):\n",
    "    \n",
    "    df = df['Comments'].apply(lambda x: split_tokens(x))\n",
    "    df = df.apply(lambda x: remove_punctuations(x))\n",
    "    df = df.apply(lambda x: remove_non_alphabetic(x))\n",
    "    df = df.apply(lambda x: remove_tokens(x))\n",
    "    df = df.apply(lambda x: remove_short_tokens(x))\n",
    "    \n",
    "    return df\n",
    "\n",
    "df = clean_df(df)\n",
    "print(df)"
   ]
  },
  {
   "cell_type": "code",
   "execution_count": null,
   "id": "d848497a",
   "metadata": {},
   "outputs": [],
   "source": []
  }
 ],
 "metadata": {
  "kernelspec": {
   "display_name": "Python 3",
   "language": "python",
   "name": "python3"
  },
  "language_info": {
   "codemirror_mode": {
    "name": "ipython",
    "version": 3
   },
   "file_extension": ".py",
   "mimetype": "text/x-python",
   "name": "python",
   "nbconvert_exporter": "python",
   "pygments_lexer": "ipython3",
   "version": "3.9.5"
  }
 },
 "nbformat": 4,
 "nbformat_minor": 5
}

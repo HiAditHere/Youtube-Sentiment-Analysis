{
 "cells": [
  {
   "cell_type": "code",
   "execution_count": null,
   "id": "b6d632c4",
   "metadata": {},
   "outputs": [],
   "source": [
    "<path d=\"M18.4 14.6 12 8.3l-6.4 6.3.8.8L12 9.7l5.6 5.7z\"></path>\n",
    "<path d=\"m18 9.28-6.35 6.35-6.37-6.35.72-.71 5.64 5.65 5.65-5.65z\"></path>"
   ]
  },
  {
   "cell_type": "code",
   "execution_count": 44,
   "id": "e80fb141",
   "metadata": {},
   "outputs": [],
   "source": [
    "#link = \"https://www.youtube.com/watch?v=QRKFLqMa5gw\"\n",
    "#link = \"https://www.youtube.com/watch?v=OpP_WNGgY1k\"\n",
    "link = \"https://www.youtube.com/watch?v=qz2AVif8FWY\""
   ]
  },
  {
   "cell_type": "code",
   "execution_count": 46,
   "id": "5ed4499e",
   "metadata": {},
   "outputs": [],
   "source": [
    "from selenium import webdriver\n",
    "from selenium.webdriver.chrome.service import Service as ChromeService\n",
    "from time import sleep\n",
    "import os\n",
    "import pandas as pd\n",
    "\n",
    "cwd = os.getcwd()\n",
    "\n",
    "PATH = cwd + \"\\ChromeDriver\\chromedriver.exe\"\n",
    "\n",
    "driver = webdriver.Chrome(service=ChromeService(PATH))\n",
    "driver.get(link)\n",
    "\n",
    "prev_height = 0\n",
    "scroll_counter = 100\n",
    "\n",
    "# Scroll Down all coments\n",
    "\n",
    "while(True):\n",
    "    height = driver.execute_script('return document.documentElement.scrollHeight')\n",
    "    driver.execute_script(\"window.scrollTo(0, \" + str(height) + \");\")\n",
    "    \n",
    "    if prev_height == height:\n",
    "        scroll_counter-=1\n",
    "        if scroll_counter == 0:\n",
    "            break\n",
    "    else:\n",
    "        scroll_counter = 100\n",
    "        \n",
    "    prev_height = height"
   ]
  },
  {
   "cell_type": "code",
   "execution_count": 47,
   "id": "78a67b4c",
   "metadata": {},
   "outputs": [],
   "source": [
    "def get_content(comment):\n",
    "    \n",
    "    content_text = ''\n",
    "    \n",
    "    content = comment.find_element(\"xpath\", \".//yt-formatted-string[@id = 'content-text']\")\n",
    "    #contents = comment.find_elements(\"xpath\", \"//*[@id='content-text']/span\")\n",
    "    \n",
    "    try:\n",
    "        for sub_content in content.find_element(\"xpath\", \"./span\"):\n",
    "            content_text = content_text + sub_content.text + \" \"\n",
    "    except:\n",
    "        content_text += content.text       \n",
    "    \n",
    "    return content_text"
   ]
  },
  {
   "cell_type": "code",
   "execution_count": 48,
   "id": "75f1ac9c",
   "metadata": {},
   "outputs": [
    {
     "name": "stdout",
     "output_type": "stream",
     "text": [
      "13\n",
      "was not there\n",
      "was not there\n",
      "was not there\n",
      "was not there\n",
      "was there\n",
      "was not there\n",
      "was not there\n",
      "was not there\n",
      "was there\n",
      "was not there\n",
      "was not there\n",
      "was not there\n",
      "was not there\n"
     ]
    },
    {
     "ename": "NoSuchElementException",
     "evalue": "Message: no such element: Unable to locate element: {\"method\":\"xpath\",\"selector\":\".//ytd-comment-replies-renderer\"}\n  (Session info: chrome=114.0.5735.199); For documentation on this error, please visit: https://www.selenium.dev/documentation/webdriver/troubleshooting/errors#no-such-element-exception\nStacktrace:\nBacktrace:\n\tGetHandleVerifier [0x008DA813+48355]\n\t(No symbol) [0x0086C4B1]\n\t(No symbol) [0x00775358]\n\t(No symbol) [0x007A09A5]\n\t(No symbol) [0x007A0B3B]\n\t(No symbol) [0x00799AE1]\n\t(No symbol) [0x007BA784]\n\t(No symbol) [0x00799A36]\n\t(No symbol) [0x007BAA94]\n\t(No symbol) [0x007CC922]\n\t(No symbol) [0x007BA536]\n\t(No symbol) [0x007982DC]\n\t(No symbol) [0x007993DD]\n\tGetHandleVerifier [0x00B3AABD+2539405]\n\tGetHandleVerifier [0x00B7A78F+2800735]\n\tGetHandleVerifier [0x00B7456C+2775612]\n\tGetHandleVerifier [0x009651E0+616112]\n\t(No symbol) [0x00875F8C]\n\t(No symbol) [0x00872328]\n\t(No symbol) [0x0087240B]\n\t(No symbol) [0x00864FF7]\n\tBaseThreadInitThunk [0x760900C9+25]\n\tRtlGetAppContainerNamedObjectPath [0x77B87B4E+286]\n\tRtlGetAppContainerNamedObjectPath [0x77B87B1E+238]\n",
     "output_type": "error",
     "traceback": [
      "\u001b[1;31m---------------------------------------------------------------------------\u001b[0m",
      "\u001b[1;31mNoSuchElementException\u001b[0m                    Traceback (most recent call last)",
      "Cell \u001b[1;32mIn[48], line 33\u001b[0m\n\u001b[0;32m     30\u001b[0m content \u001b[38;5;241m=\u001b[39m get_content(comment)\n\u001b[0;32m     31\u001b[0m df\u001b[38;5;241m.\u001b[39mloc[\u001b[38;5;28mlen\u001b[39m(df)] \u001b[38;5;241m=\u001b[39m content\n\u001b[1;32m---> 33\u001b[0m replies_section \u001b[38;5;241m=\u001b[39m \u001b[43mcomment\u001b[49m\u001b[38;5;241;43m.\u001b[39;49m\u001b[43mfind_element\u001b[49m\u001b[43m(\u001b[49m\u001b[38;5;124;43m\"\u001b[39;49m\u001b[38;5;124;43mxpath\u001b[39;49m\u001b[38;5;124;43m\"\u001b[39;49m\u001b[43m,\u001b[49m\u001b[43m \u001b[49m\u001b[38;5;124;43m\"\u001b[39;49m\u001b[38;5;124;43m.//ytd-comment-replies-renderer\u001b[39;49m\u001b[38;5;124;43m\"\u001b[39;49m\u001b[43m)\u001b[49m\n\u001b[0;32m     35\u001b[0m \u001b[38;5;28;01mtry\u001b[39;00m:\n\u001b[0;32m     36\u001b[0m     replies \u001b[38;5;241m=\u001b[39m replies_section\u001b[38;5;241m.\u001b[39mfind_elements(\u001b[38;5;124m\"\u001b[39m\u001b[38;5;124mxpath\u001b[39m\u001b[38;5;124m\"\u001b[39m, \u001b[38;5;124m\"\u001b[39m\u001b[38;5;124m.//ytd-comment-renderer\u001b[39m\u001b[38;5;124m\"\u001b[39m)\n",
      "File \u001b[1;32m~\\anaconda3\\envs\\projenv\\lib\\site-packages\\selenium\\webdriver\\remote\\webelement.py:417\u001b[0m, in \u001b[0;36mWebElement.find_element\u001b[1;34m(self, by, value)\u001b[0m\n\u001b[0;32m    414\u001b[0m     by \u001b[38;5;241m=\u001b[39m By\u001b[38;5;241m.\u001b[39mCSS_SELECTOR\n\u001b[0;32m    415\u001b[0m     value \u001b[38;5;241m=\u001b[39m \u001b[38;5;124mf\u001b[39m\u001b[38;5;124m'\u001b[39m\u001b[38;5;124m[name=\u001b[39m\u001b[38;5;124m\"\u001b[39m\u001b[38;5;132;01m{\u001b[39;00mvalue\u001b[38;5;132;01m}\u001b[39;00m\u001b[38;5;124m\"\u001b[39m\u001b[38;5;124m]\u001b[39m\u001b[38;5;124m'\u001b[39m\n\u001b[1;32m--> 417\u001b[0m \u001b[38;5;28;01mreturn\u001b[39;00m \u001b[38;5;28;43mself\u001b[39;49m\u001b[38;5;241;43m.\u001b[39;49m\u001b[43m_execute\u001b[49m\u001b[43m(\u001b[49m\u001b[43mCommand\u001b[49m\u001b[38;5;241;43m.\u001b[39;49m\u001b[43mFIND_CHILD_ELEMENT\u001b[49m\u001b[43m,\u001b[49m\u001b[43m \u001b[49m\u001b[43m{\u001b[49m\u001b[38;5;124;43m\"\u001b[39;49m\u001b[38;5;124;43musing\u001b[39;49m\u001b[38;5;124;43m\"\u001b[39;49m\u001b[43m:\u001b[49m\u001b[43m \u001b[49m\u001b[43mby\u001b[49m\u001b[43m,\u001b[49m\u001b[43m \u001b[49m\u001b[38;5;124;43m\"\u001b[39;49m\u001b[38;5;124;43mvalue\u001b[39;49m\u001b[38;5;124;43m\"\u001b[39;49m\u001b[43m:\u001b[49m\u001b[43m \u001b[49m\u001b[43mvalue\u001b[49m\u001b[43m}\u001b[49m\u001b[43m)\u001b[49m[\u001b[38;5;124m\"\u001b[39m\u001b[38;5;124mvalue\u001b[39m\u001b[38;5;124m\"\u001b[39m]\n",
      "File \u001b[1;32m~\\anaconda3\\envs\\projenv\\lib\\site-packages\\selenium\\webdriver\\remote\\webelement.py:395\u001b[0m, in \u001b[0;36mWebElement._execute\u001b[1;34m(self, command, params)\u001b[0m\n\u001b[0;32m    393\u001b[0m     params \u001b[38;5;241m=\u001b[39m {}\n\u001b[0;32m    394\u001b[0m params[\u001b[38;5;124m\"\u001b[39m\u001b[38;5;124mid\u001b[39m\u001b[38;5;124m\"\u001b[39m] \u001b[38;5;241m=\u001b[39m \u001b[38;5;28mself\u001b[39m\u001b[38;5;241m.\u001b[39m_id\n\u001b[1;32m--> 395\u001b[0m \u001b[38;5;28;01mreturn\u001b[39;00m \u001b[38;5;28;43mself\u001b[39;49m\u001b[38;5;241;43m.\u001b[39;49m\u001b[43m_parent\u001b[49m\u001b[38;5;241;43m.\u001b[39;49m\u001b[43mexecute\u001b[49m\u001b[43m(\u001b[49m\u001b[43mcommand\u001b[49m\u001b[43m,\u001b[49m\u001b[43m \u001b[49m\u001b[43mparams\u001b[49m\u001b[43m)\u001b[49m\n",
      "File \u001b[1;32m~\\anaconda3\\envs\\projenv\\lib\\site-packages\\selenium\\webdriver\\remote\\webdriver.py:346\u001b[0m, in \u001b[0;36mWebDriver.execute\u001b[1;34m(self, driver_command, params)\u001b[0m\n\u001b[0;32m    344\u001b[0m response \u001b[38;5;241m=\u001b[39m \u001b[38;5;28mself\u001b[39m\u001b[38;5;241m.\u001b[39mcommand_executor\u001b[38;5;241m.\u001b[39mexecute(driver_command, params)\n\u001b[0;32m    345\u001b[0m \u001b[38;5;28;01mif\u001b[39;00m response:\n\u001b[1;32m--> 346\u001b[0m     \u001b[38;5;28;43mself\u001b[39;49m\u001b[38;5;241;43m.\u001b[39;49m\u001b[43merror_handler\u001b[49m\u001b[38;5;241;43m.\u001b[39;49m\u001b[43mcheck_response\u001b[49m\u001b[43m(\u001b[49m\u001b[43mresponse\u001b[49m\u001b[43m)\u001b[49m\n\u001b[0;32m    347\u001b[0m     response[\u001b[38;5;124m\"\u001b[39m\u001b[38;5;124mvalue\u001b[39m\u001b[38;5;124m\"\u001b[39m] \u001b[38;5;241m=\u001b[39m \u001b[38;5;28mself\u001b[39m\u001b[38;5;241m.\u001b[39m_unwrap_value(response\u001b[38;5;241m.\u001b[39mget(\u001b[38;5;124m\"\u001b[39m\u001b[38;5;124mvalue\u001b[39m\u001b[38;5;124m\"\u001b[39m, \u001b[38;5;28;01mNone\u001b[39;00m))\n\u001b[0;32m    348\u001b[0m     \u001b[38;5;28;01mreturn\u001b[39;00m response\n",
      "File \u001b[1;32m~\\anaconda3\\envs\\projenv\\lib\\site-packages\\selenium\\webdriver\\remote\\errorhandler.py:245\u001b[0m, in \u001b[0;36mErrorHandler.check_response\u001b[1;34m(self, response)\u001b[0m\n\u001b[0;32m    243\u001b[0m         alert_text \u001b[38;5;241m=\u001b[39m value[\u001b[38;5;124m\"\u001b[39m\u001b[38;5;124malert\u001b[39m\u001b[38;5;124m\"\u001b[39m]\u001b[38;5;241m.\u001b[39mget(\u001b[38;5;124m\"\u001b[39m\u001b[38;5;124mtext\u001b[39m\u001b[38;5;124m\"\u001b[39m)\n\u001b[0;32m    244\u001b[0m     \u001b[38;5;28;01mraise\u001b[39;00m exception_class(message, screen, stacktrace, alert_text)  \u001b[38;5;66;03m# type: ignore[call-arg]  # mypy is not smart enough here\u001b[39;00m\n\u001b[1;32m--> 245\u001b[0m \u001b[38;5;28;01mraise\u001b[39;00m exception_class(message, screen, stacktrace)\n",
      "\u001b[1;31mNoSuchElementException\u001b[0m: Message: no such element: Unable to locate element: {\"method\":\"xpath\",\"selector\":\".//ytd-comment-replies-renderer\"}\n  (Session info: chrome=114.0.5735.199); For documentation on this error, please visit: https://www.selenium.dev/documentation/webdriver/troubleshooting/errors#no-such-element-exception\nStacktrace:\nBacktrace:\n\tGetHandleVerifier [0x008DA813+48355]\n\t(No symbol) [0x0086C4B1]\n\t(No symbol) [0x00775358]\n\t(No symbol) [0x007A09A5]\n\t(No symbol) [0x007A0B3B]\n\t(No symbol) [0x00799AE1]\n\t(No symbol) [0x007BA784]\n\t(No symbol) [0x00799A36]\n\t(No symbol) [0x007BAA94]\n\t(No symbol) [0x007CC922]\n\t(No symbol) [0x007BA536]\n\t(No symbol) [0x007982DC]\n\t(No symbol) [0x007993DD]\n\tGetHandleVerifier [0x00B3AABD+2539405]\n\tGetHandleVerifier [0x00B7A78F+2800735]\n\tGetHandleVerifier [0x00B7456C+2775612]\n\tGetHandleVerifier [0x009651E0+616112]\n\t(No symbol) [0x00875F8C]\n\t(No symbol) [0x00872328]\n\t(No symbol) [0x0087240B]\n\t(No symbol) [0x00864FF7]\n\tBaseThreadInitThunk [0x760900C9+25]\n\tRtlGetAppContainerNamedObjectPath [0x77B87B4E+286]\n\tRtlGetAppContainerNamedObjectPath [0x77B87B1E+238]\n"
     ]
    }
   ],
   "source": [
    "df = pd.DataFrame(columns = [\"Comments\"])\n",
    "\n",
    "comments_XPATH = \"/html/body/ytd-app/div[1]/ytd-page-manager/ytd-watch-flexy/div[5]/div[1]/div/div[2]/ytd-comments/ytd-item-section-renderer/div[3]\"\n",
    "comments_section = driver.find_element(\"xpath\", comments_XPATH)\n",
    "comments = comments_section.find_elements(\"xpath\",'./ytd-comment-thread-renderer')\n",
    "print(len(comments))\n",
    "\n",
    "# Press all view replies button to comments\n",
    "'''for comment in comments:\n",
    "    try:\n",
    "        see_replies = comment.find_element(\"xpath\", \".//path[@d = 'm18 9.28-6.35 6.35-6.37-6.35.72-.71 5.64 5.65 5.65-5.65z']\")\n",
    "        see_replies.click()\n",
    "    except:\n",
    "        continue'''\n",
    "for comment in comments:\n",
    "    try:\n",
    "        see_replies = comment.find_element(\"xpath\", './/ytd-button-renderer[@id=\"more-replies\"]')\n",
    "        see_replies.click()\n",
    "        print(\"was there\")\n",
    "    except:\n",
    "        print(\"was not there\")\n",
    "\n",
    "        \n",
    "# This is not the same as previous comments\n",
    "comments = comments_section.find_elements(\"xpath\",'.//ytd-comment-thread-renderer')\n",
    "#replies = comments_section.find_elements(\"xpath\", \".//ytd-comment-renderer\")\n",
    "\n",
    "for comment in comments:\n",
    "    \n",
    "    content = get_content(comment)\n",
    "    df.loc[len(df)] = content\n",
    "    \n",
    "    try:\n",
    "        replies_section = comment.find_element(\"xpath\", \".//ytd-comment-replies-renderer\")\n",
    "        replies = replies_section.find_elements(\"xpath\", \".//ytd-comment-renderer\")\n",
    "        for reply in replies:\n",
    "            content = get_content(reply)\n",
    "            df.loc[len(df)] = content\n",
    "    except:\n",
    "        continue\n",
    "    \n",
    "print(df)"
   ]
  },
  {
   "cell_type": "code",
   "execution_count": 34,
   "id": "221756e5",
   "metadata": {},
   "outputs": [
    {
     "data": {
      "text/plain": [
       "'Este fue un partidazo de mi Madrid. Me acuerdo verlo en vivo , me alegré muchísimo. Y también recuerdo que fue el último Derby en el Vicente Calderón'"
      ]
     },
     "execution_count": 34,
     "metadata": {},
     "output_type": "execute_result"
    }
   ],
   "source": [
    "df['Comments'].loc[1]"
   ]
  },
  {
   "cell_type": "code",
   "execution_count": 7,
   "id": "826a874b",
   "metadata": {},
   "outputs": [],
   "source": [
    "height = driver.execute_script('return document.documentElement.scrollHeight')\n",
    "driver.execute_script(\"window.scrollTo(0, \" + str(height) + \");\")"
   ]
  },
  {
   "cell_type": "code",
   "execution_count": null,
   "id": "57f53a16",
   "metadata": {},
   "outputs": [],
   "source": []
  }
 ],
 "metadata": {
  "kernelspec": {
   "display_name": "projenv",
   "language": "python",
   "name": "projenv"
  },
  "language_info": {
   "codemirror_mode": {
    "name": "ipython",
    "version": 3
   },
   "file_extension": ".py",
   "mimetype": "text/x-python",
   "name": "python",
   "nbconvert_exporter": "python",
   "pygments_lexer": "ipython3",
   "version": "3.10.9"
  }
 },
 "nbformat": 4,
 "nbformat_minor": 5
}

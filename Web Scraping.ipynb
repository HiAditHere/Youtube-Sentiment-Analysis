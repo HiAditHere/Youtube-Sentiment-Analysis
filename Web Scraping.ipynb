{
 "cells": [
  {
   "cell_type": "code",
   "execution_count": 1,
   "id": "e80fb141",
   "metadata": {},
   "outputs": [],
   "source": [
    "#link = \"https://www.youtube.com/watch?v=QRKFLqMa5gw\"\n",
    "#link = \"https://www.youtube.com/watch?v=OpP_WNGgY1k\"\n",
    "link = \"https://www.youtube.com/watch?v=qz2AVif8FWY\""
   ]
  },
  {
   "cell_type": "code",
   "execution_count": 2,
   "id": "5ed4499e",
   "metadata": {},
   "outputs": [],
   "source": [
    "from selenium import webdriver\n",
    "from selenium.webdriver.chrome.service import Service as ChromeService\n",
    "from time import sleep\n",
    "import os\n",
    "import pandas as pd\n",
    "\n",
    "cwd = os.getcwd()\n",
    "\n",
    "PATH = cwd + \"\\ChromeDriver\\chromedriver.exe\"\n",
    "\n",
    "driver = webdriver.Chrome(service=ChromeService(PATH))\n",
    "driver.get(link)\n",
    "\n",
    "prev_height = 0\n",
    "scroll_counter = 100\n",
    "\n",
    "# Scroll Down all coments\n",
    "\n",
    "while(True):\n",
    "    height = driver.execute_script('return document.documentElement.scrollHeight')\n",
    "    driver.execute_script(\"window.scrollTo(0, \" + str(height) + \");\")\n",
    "    \n",
    "    if prev_height == height:\n",
    "        scroll_counter-=1\n",
    "        if scroll_counter == 0:\n",
    "            break\n",
    "    else:\n",
    "        scroll_counter = 100\n",
    "        \n",
    "    prev_height = height"
   ]
  },
  {
   "cell_type": "code",
   "execution_count": 3,
   "id": "78a67b4c",
   "metadata": {},
   "outputs": [],
   "source": [
    "def get_content(comment):\n",
    "    \n",
    "    content_text = ''\n",
    "    \n",
    "    content = comment.find_element(\"xpath\", \".//yt-formatted-string[@id = 'content-text']\")\n",
    "    #contents = comment.find_elements(\"xpath\", \"//*[@id='content-text']/span\")\n",
    "    \n",
    "    try:\n",
    "        for sub_content in content.find_element(\"xpath\", \"./span\"):\n",
    "            content_text = content_text + sub_content.text + \" \"\n",
    "    except:\n",
    "        content_text += content.text       \n",
    "    \n",
    "    return content_text"
   ]
  },
  {
   "cell_type": "code",
   "execution_count": 4,
   "id": "75f1ac9c",
   "metadata": {},
   "outputs": [
    {
     "name": "stdout",
     "output_type": "stream",
     "text": [
      "14\n",
      "                                             Comments\n",
      "0   I remember watching this game, Tottenhams play...\n",
      "1   I forgot how hard Tottenham fight in this matc...\n",
      "2                                   Messi is majestic\n",
      "3                                       Rakitic Goal \n",
      "4   if you really think ab it…..this could’ve been...\n",
      "5             Yeah unfortunately his team failed him.\n",
      "6    @fabianu4019 the little ghost from argentina ...\n",
      "7    @mobamba893  You are mentally tortured by the...\n",
      "8                                     Much love messi\n",
      "9                       Alba with 3 assists this game\n",
      "10  How good is Messi...its a disgrace to football...\n",
      "11                                         GooSebumps\n",
      "12                                          good game\n",
      "13                 MESSI EN SU SEGUNDO PATIO WEMBLEY,\n",
      "14                                       I miss Messi\n",
      "15                                    Spur pun trauma\n",
      "16                                         MESSİ KRAL\n"
     ]
    }
   ],
   "source": [
    "df = pd.DataFrame(columns = [\"Comments\"])\n",
    "\n",
    "comments_XPATH = \"/html/body/ytd-app/div[1]/ytd-page-manager/ytd-watch-flexy/div[5]/div[1]/div/div[2]/ytd-comments/ytd-item-section-renderer/div[3]\"\n",
    "comments_section = driver.find_element(\"xpath\", comments_XPATH)\n",
    "comments = comments_section.find_elements(\"xpath\",'./ytd-comment-thread-renderer')\n",
    "print(len(comments))\n",
    "\n",
    "# Press all view replies button to comments\n",
    "for comment in comments:\n",
    "    try:\n",
    "        see_replies = comment.find_element(\"xpath\", './/ytd-button-renderer[@id=\"more-replies\"]')\n",
    "        see_replies.click()\n",
    "    except:\n",
    "        continue\n",
    "\n",
    "        \n",
    "# This is not the same as previous comments\n",
    "comments = comments_section.find_elements(\"xpath\",'.//ytd-comment-thread-renderer')\n",
    "\n",
    "for comment in comments:\n",
    "    \n",
    "    content = get_content(comment)\n",
    "    df.loc[len(df)] = content\n",
    "    \n",
    "    try:\n",
    "        replies_section = comment.find_element(\"xpath\", \".//ytd-comment-replies-renderer\")\n",
    "        replies = replies_section.find_elements(\"xpath\", \".//ytd-comment-renderer\")\n",
    "        for reply in replies:\n",
    "            content = get_content(reply)\n",
    "            df.loc[len(df)] = content\n",
    "    except:\n",
    "        continue\n",
    "        \n",
    "# Fetchning the title of the video\n",
    "\n",
    "title_path = \"/html/body/ytd-app/div[1]/ytd-page-manager/ytd-watch-flexy/div[5]/div[1]/div/div[2]/ytd-watch-metadata/div/div[1]/h1/yt-formatted-string\"\n",
    "title = driver.find_element(\"xpath\", title_path).text\n",
    "\n",
    "print(df)"
   ]
  },
  {
   "cell_type": "code",
   "execution_count": 6,
   "id": "221756e5",
   "metadata": {},
   "outputs": [],
   "source": [
    "file = df.to_csv(\"new_file.csv\")"
   ]
  },
  {
   "cell_type": "code",
   "execution_count": 7,
   "id": "7b9abe90",
   "metadata": {},
   "outputs": [],
   "source": [
    "import boto3\n",
    "s3 = boto3.resource(\"s3\")\n",
    "\n",
    "bucket_name = ''\n",
    "\n",
    "for bucket in s3.buckets.all():\n",
    "    bucket_name = bucket.name"
   ]
  },
  {
   "cell_type": "code",
   "execution_count": 9,
   "id": "57f53a16",
   "metadata": {},
   "outputs": [],
   "source": [
    "s3_client = boto3.client(\"s3\")\n",
    "s3_client.upload_file(\n",
    "    Filename = \"new_file.csv\",\n",
    "    Bucket = bucket_name,\n",
    "    Key = title + \".csv\"\n",
    ")"
   ]
  },
  {
   "cell_type": "code",
   "execution_count": null,
   "id": "750a496d",
   "metadata": {},
   "outputs": [],
   "source": []
  }
 ],
 "metadata": {
  "kernelspec": {
   "display_name": "projenv",
   "language": "python",
   "name": "projenv"
  },
  "language_info": {
   "codemirror_mode": {
    "name": "ipython",
    "version": 3
   },
   "file_extension": ".py",
   "mimetype": "text/x-python",
   "name": "python",
   "nbconvert_exporter": "python",
   "pygments_lexer": "ipython3",
   "version": "3.10.9"
  }
 },
 "nbformat": 4,
 "nbformat_minor": 5
}

{
 "cells": [
  {
   "cell_type": "code",
   "execution_count": null,
   "id": "c63d5dc5",
   "metadata": {},
   "outputs": [],
   "source": [
    "<path d=\"M18.4 14.6 12 8.3l-6.4 6.3.8.8L12 9.7l5.6 5.7z\"></path>\n",
    "<path d=\"m18 9.28-6.35 6.35-6.37-6.35.72-.71 5.64 5.65 5.65-5.65z\"></path>"
   ]
  },
  {
   "cell_type": "code",
   "execution_count": 7,
   "id": "e80fb141",
   "metadata": {},
   "outputs": [],
   "source": [
    "#link = \"https://www.youtube.com/watch?v=QRKFLqMa5gw\"\n",
    "link = \"https://www.youtube.com/watch?v=OpP_WNGgY1k\""
   ]
  },
  {
   "cell_type": "code",
   "execution_count": 8,
   "id": "5ed4499e",
   "metadata": {},
   "outputs": [],
   "source": [
    "from selenium import webdriver\n",
    "from selenium.webdriver.chrome.service import Service as ChromeService\n",
    "from time import sleep\n",
    "import os\n",
    "import pandas as pd\n",
    "\n",
    "cwd = os.getcwd()\n",
    "\n",
    "PATH = cwd + \"\\ChromeDriver\\chromedriver.exe\"\n",
    "\n",
    "driver = webdriver.Chrome(service=ChromeService(PATH))\n",
    "driver.get(link)\n",
    "sleep(5)\n",
    "\n",
    "prev_height = 0\n",
    "scroll_counter = 100\n",
    "\n",
    "while(True):\n",
    "    height = driver.execute_script('return document.documentElement.scrollHeight')\n",
    "    driver.execute_script(\"window.scrollTo(0, \" + str(height) + \");\")\n",
    "    \n",
    "    if prev_height == height:\n",
    "        scroll_counter-=1\n",
    "        if scroll_counter == 0:\n",
    "            break\n",
    "    else:\n",
    "        scroll_counter = 100\n",
    "        \n",
    "    prev_height = height"
   ]
  },
  {
   "cell_type": "code",
   "execution_count": 9,
   "id": "78a67b4c",
   "metadata": {},
   "outputs": [],
   "source": [
    "def get_content(comment):\n",
    "    \n",
    "    content_text = ''\n",
    "    \n",
    "    content = comment.find_element(\"xpath\", \".//yt-formatted-string[@id = 'content-text']\")\n",
    "    #contents = comment.find_elements(\"xpath\", \"//*[@id='content-text']/span\")\n",
    "    \n",
    "    try:\n",
    "        for sub_content in content.find_element(\"xpath\", \"./span\"):\n",
    "            content_text = content_text + sub_content.text + \" \"\n",
    "    except:\n",
    "        content_text += content.text       \n",
    "    \n",
    "    return content_text"
   ]
  },
  {
   "cell_type": "code",
   "execution_count": 10,
   "id": "75f1ac9c",
   "metadata": {},
   "outputs": [
    {
     "name": "stdout",
     "output_type": "stream",
     "text": [
      "676\n",
      "                                              Comments\n",
      "0    When Mark takes a bite and starts laughing... ...\n",
      "1    When you’re literally invited to the cookout. ...\n",
      "2    This is insanely impressive. Every piece of me...\n",
      "3    This backyard bbq has taken my idea of Sunday ...\n",
      "4    Every food journey of mr Mark always come with...\n",
      "..                                                 ...\n",
      "671  this food is bad f fore health donkey man stopped\n",
      "672                              Mark’s a noisy eater.\n",
      "673                                              first\n",
      "674                                             Boring\n",
      "675  African Americans Aint Africans #AfricanAmeric...\n",
      "\n",
      "[676 rows x 1 columns]\n"
     ]
    }
   ],
   "source": [
    "df = pd.DataFrame(columns = [\"Comments\"])\n",
    "\n",
    "comments_XPATH = \"/html/body/ytd-app/div[1]/ytd-page-manager/ytd-watch-flexy/div[5]/div[1]/div/div[2]/ytd-comments/ytd-item-section-renderer/div[3]\"\n",
    "comments_section = driver.find_element(\"xpath\", comments_XPATH)\n",
    "comments = comments_section.find_elements(\"xpath\",'./ytd-comment-thread-renderer')\n",
    "print(len(comments))\n",
    "\n",
    "for comment in comments:\n",
    "    \n",
    "    content = get_content(comment)\n",
    "    df.loc[len(df)] = content\n",
    "    \n",
    "print(df)"
   ]
  },
  {
   "cell_type": "code",
   "execution_count": 34,
   "id": "221756e5",
   "metadata": {},
   "outputs": [
    {
     "data": {
      "text/plain": [
       "'Este fue un partidazo de mi Madrid. Me acuerdo verlo en vivo , me alegré muchísimo. Y también recuerdo que fue el último Derby en el Vicente Calderón'"
      ]
     },
     "execution_count": 34,
     "metadata": {},
     "output_type": "execute_result"
    }
   ],
   "source": [
    "df['Comments'].loc[1]"
   ]
  },
  {
   "cell_type": "code",
   "execution_count": 7,
   "id": "826a874b",
   "metadata": {},
   "outputs": [],
   "source": [
    "height = driver.execute_script('return document.documentElement.scrollHeight')\n",
    "driver.execute_script(\"window.scrollTo(0, \" + str(height) + \");\")"
   ]
  },
  {
   "cell_type": "code",
   "execution_count": null,
   "id": "57f53a16",
   "metadata": {},
   "outputs": [],
   "source": []
  }
 ],
 "metadata": {
  "kernelspec": {
   "display_name": "projenv",
   "language": "python",
   "name": "projenv"
  },
  "language_info": {
   "codemirror_mode": {
    "name": "ipython",
    "version": 3
   },
   "file_extension": ".py",
   "mimetype": "text/x-python",
   "name": "python",
   "nbconvert_exporter": "python",
   "pygments_lexer": "ipython3",
   "version": "3.10.9"
  }
 },
 "nbformat": 4,
 "nbformat_minor": 5
}

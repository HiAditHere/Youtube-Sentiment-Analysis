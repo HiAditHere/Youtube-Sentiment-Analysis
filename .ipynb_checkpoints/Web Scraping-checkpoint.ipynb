{
 "cells": [
  {
   "cell_type": "code",
   "execution_count": 28,
   "id": "e80fb141",
   "metadata": {},
   "outputs": [],
   "source": [
    "link = \"https://www.youtube.com/watch?v=QRKFLqMa5gw\""
   ]
  },
  {
   "cell_type": "code",
   "execution_count": 29,
   "id": "5ed4499e",
   "metadata": {},
   "outputs": [],
   "source": [
    "from selenium import webdriver\n",
    "from selenium.webdriver.chrome.service import Service as ChromeService\n",
    "from time import sleep\n",
    "import os\n",
    "\n",
    "cwd = os.getcwd()\n",
    "\n",
    "PATH = cwd + \"\\ChromeDriver\\chromedriver.exe\"\n",
    "\n",
    "driver = webdriver.Chrome(service=ChromeService(PATH))\n",
    "driver.get(link)\n",
    "height = driver.execute_script('return document.documentElement.scrollHeight')\n",
    "driver.execute_script(\"window.scrollTo(0, \" + str(height) + \");\")"
   ]
  },
  {
   "cell_type": "code",
   "execution_count": 4,
   "id": "1b68981a",
   "metadata": {},
   "outputs": [
    {
     "data": {
      "text/plain": [
       "'//*[@id=\"contents\"]/ytd-comment-thread-renderer[1]\\n//*[@id=\"content-text\"]/span'"
      ]
     },
     "execution_count": 4,
     "metadata": {},
     "output_type": "execute_result"
    }
   ],
   "source": [
    "'''//*[@id=\"contents\"]/ytd-comment-thread-renderer[1]\n",
    "//*[@id=\"content-text\"]/span'''"
   ]
  },
  {
   "cell_type": "code",
   "execution_count": 32,
   "id": "78a67b4c",
   "metadata": {},
   "outputs": [],
   "source": [
    "def get_content(comment):\n",
    "    \n",
    "    content_text = ''\n",
    "    \n",
    "    content = comment.find_element(\"xpath\", \".//yt-formatted-string[@id = 'content-text']\")\n",
    "    #contents = comment.find_elements(\"xpath\", \"//*[@id='content-text']/span\")\n",
    "    \n",
    "    try:\n",
    "        for sub_content in content.find_element(\"xpath\", \"./span\"):\n",
    "            content_text = content_text + sub_content.text + \" \"\n",
    "    except:\n",
    "        content_text += content.text       \n",
    "    \n",
    "    return content_text"
   ]
  },
  {
   "cell_type": "code",
   "execution_count": 33,
   "id": "75f1ac9c",
   "metadata": {},
   "outputs": [
    {
     "name": "stdout",
     "output_type": "stream",
     "text": [
      "20\n",
      "                                             Comments\n",
      "0   Recuerdo que Cristiano no estaba teniendo la m...\n",
      "1   Este fue un partidazo de mi Madrid. Me acuerdo...\n",
      "2   Como extraño a este Real Madrid\\nComo extraño ...\n",
      "3   Todavía te extrañamos comandante prohibido olv...\n",
      "4      que saudades desse Real, que saudade desse CR7\n",
      "5   Cristiano was on fire in the 2016/17 season. I...\n",
      "6   This Real Madrid is absolutely Amazing.. easil...\n",
      "7   que nivel de MagISCO, una lástima que n mantuv...\n",
      "8   Los años cuando Cristiano era por lejos el mej...\n",
      "9           Que     golasos     de     cristiano  ️️️\n",
      "10  Me acuerdo de ese partido , saludos desde cuba...\n",
      "11                       Dios mío que jugador era Cr7\n",
      "12  Ronaldo un¡ crack,pero el Varane de ese tiempo...\n",
      "13                              Невероятный Криштиану\n",
      "14                                 best football year\n",
      "15  Hola podrías subir también todos los goles y e...\n",
      "16                      Madre mía lo que juega Madrid\n",
      "17                                 WHAT A GOOD MATCH \n",
      "18                                 That touch by Isco\n",
      "19                            Isco era una barbaridad\n"
     ]
    }
   ],
   "source": [
    "df = pd.DataFrame(columns = [\"Comments\"])\n",
    "\n",
    "comments_XPATH = \"/html/body/ytd-app/div[1]/ytd-page-manager/ytd-watch-flexy/div[5]/div[1]/div/div[2]/ytd-comments/ytd-item-section-renderer/div[3]\"\n",
    "comments_section = driver.find_element(\"xpath\", comments_XPATH)\n",
    "comments = comments_section.find_elements(\"xpath\",'./ytd-comment-thread-renderer')\n",
    "print(len(comments))\n",
    "\n",
    "for comment in comments:\n",
    "    \n",
    "    content = get_content(comment)\n",
    "    df.loc[len(df)] = content\n",
    "    \n",
    "print(df)"
   ]
  },
  {
   "cell_type": "code",
   "execution_count": 34,
   "id": "221756e5",
   "metadata": {},
   "outputs": [
    {
     "data": {
      "text/plain": [
       "'Este fue un partidazo de mi Madrid. Me acuerdo verlo en vivo , me alegré muchísimo. Y también recuerdo que fue el último Derby en el Vicente Calderón'"
      ]
     },
     "execution_count": 34,
     "metadata": {},
     "output_type": "execute_result"
    }
   ],
   "source": [
    "df['Comments'].loc[1]"
   ]
  },
  {
   "cell_type": "code",
   "execution_count": 22,
   "id": "826a874b",
   "metadata": {},
   "outputs": [],
   "source": [
    "height = driver.execute_script('return document.documentElement.scrollHeight')\n",
    "driver.execute_script(\"window.scrollTo(0, \" + str(height) + \");\")"
   ]
  },
  {
   "cell_type": "code",
   "execution_count": null,
   "id": "57f53a16",
   "metadata": {},
   "outputs": [],
   "source": []
  }
 ],
 "metadata": {
  "kernelspec": {
   "display_name": "projenv",
   "language": "python",
   "name": "projenv"
  },
  "language_info": {
   "codemirror_mode": {
    "name": "ipython",
    "version": 3
   },
   "file_extension": ".py",
   "mimetype": "text/x-python",
   "name": "python",
   "nbconvert_exporter": "python",
   "pygments_lexer": "ipython3",
   "version": "3.10.9"
  }
 },
 "nbformat": 4,
 "nbformat_minor": 5
}

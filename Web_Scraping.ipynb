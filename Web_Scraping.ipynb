{
 "cells": [
  {
   "cell_type": "code",
   "execution_count": 1,
   "id": "e80fb141",
   "metadata": {},
   "outputs": [],
   "source": [
    "#link = \"https://www.youtube.com/watch?v=QRKFLqMa5gw\"\n",
    "#link = \"https://www.youtube.com/watch?v=OpP_WNGgY1k\"\n",
    "#link = \"https://www.youtube.com/watch?v=qz2AVif8FWY\"\n",
    "link = \"https://www.youtube.com/watch?v=VS2ylA4HwG0\""
   ]
  },
  {
   "cell_type": "code",
   "execution_count": 2,
   "id": "5ed4499e",
   "metadata": {},
   "outputs": [],
   "source": [
    "from selenium import webdriver\n",
    "from selenium.webdriver.chrome.service import Service as ChromeService\n",
    "from time import sleep\n",
    "import os\n",
    "import pandas as pd\n",
    "\n",
    "cwd = os.getcwd()\n",
    "\n",
    "PATH = cwd + \"\\ChromeDriver\\chromedriver.exe\"\n",
    "\n",
    "# driver.get does not work all the time. So try except implementation\n",
    "\n",
    "while(True):\n",
    "    try:\n",
    "        driver = webdriver.Chrome(service=ChromeService(PATH))\n",
    "        driver.get(link)\n",
    "        break\n",
    "    except:\n",
    "        driver.quit()\n",
    "        \n",
    "sleep(5)\n",
    "\n",
    "prev_height = 0\n",
    "scroll_counter = 100\n",
    "\n",
    "# Scroll Down all coments\n",
    "\n",
    "while(True):\n",
    "    height = driver.execute_script('return document.documentElement.scrollHeight')\n",
    "    driver.execute_script(\"window.scrollTo(0, \" + str(height) + \");\")\n",
    "    \n",
    "    if prev_height == height:\n",
    "        scroll_counter-=1\n",
    "        if scroll_counter == 0:\n",
    "            break\n",
    "    else:\n",
    "        scroll_counter = 100\n",
    "        \n",
    "    prev_height = height\n",
    "    \n",
    "# Checking if ad exists and press no thanks\n",
    "\n",
    "ad_path = \"/html/body/ytd-app/ytd-popup-container/tp-yt-paper-dialog/yt-mealbar-promo-renderer/div/div[2]/yt-button-renderer[1]\"\n",
    "\n",
    "try:\n",
    "    ad = driver.find_element(\"xpath\", ad_path)\n",
    "    ad.click()\n",
    "except:\n",
    "    print(\"No ad\")"
   ]
  },
  {
   "cell_type": "code",
   "execution_count": 3,
   "id": "78a67b4c",
   "metadata": {},
   "outputs": [],
   "source": [
    "# Function to get the text from comments\n",
    "def get_content(comment):\n",
    "    \n",
    "    content_text = ''\n",
    "    \n",
    "    content = comment.find_element(\"xpath\", \".//yt-formatted-string[@id = 'content-text']\")\n",
    "    #contents = comment.find_elements(\"xpath\", \"//*[@id='content-text']/span\")\n",
    "    \n",
    "    try:\n",
    "        for sub_content in content.find_element(\"xpath\", \"./span\"):\n",
    "            content_text = content_text + sub_content.text + \" \"\n",
    "    except:\n",
    "        content_text += content.text       \n",
    "    \n",
    "    return content_text"
   ]
  },
  {
   "cell_type": "code",
   "execution_count": 4,
   "id": "81efec3d",
   "metadata": {},
   "outputs": [
    {
     "name": "stdout",
     "output_type": "stream",
     "text": [
      "89\n",
      "                                              Comments\n",
      "0    Give Guardian good team. He is still capable t...\n",
      "1    GuardiaN's clutch vs his old teammates in roun...\n",
      "2    Sad to see age has caught up with papitos reac...\n",
      "3    Tbh he retired and any matches he plays are fo...\n",
      "4    I wouldn't say it is his age. \\nMost of the ol...\n",
      "..                                                 ...\n",
      "143   @firefromhell5511  karrigan at his best, love...\n",
      "144                          @jaredsplatt8652  i agree\n",
      "145  im sorry but allen is not a legend, and nbk is...\n",
      "146  pasha was never good enough to be a pro, take ...\n",
      "147  for the love all of that is holy, please fire ...\n",
      "\n",
      "[148 rows x 1 columns]\n"
     ]
    }
   ],
   "source": [
    "df = pd.DataFrame(columns = [\"Comments\"])\n",
    "\n",
    "comments_XPATH = \"/html/body/ytd-app/div[1]/ytd-page-manager/ytd-watch-flexy/div[5]/div[1]/div/div[2]/ytd-comments/ytd-item-section-renderer/div[3]\"\n",
    "comments_section = driver.find_element(\"xpath\", comments_XPATH)\n",
    "comments = comments_section.find_elements(\"xpath\",'./ytd-comment-thread-renderer')\n",
    "print(len(comments))\n",
    "\n",
    "# Press all view replies button to comments\n",
    "for comment in comments:\n",
    "    try:\n",
    "        see_replies = comment.find_element(\"xpath\", './/ytd-button-renderer[@id=\"more-replies\"]')\n",
    "        see_replies.click()\n",
    "    except:\n",
    "        continue\n",
    "\n",
    "        \n",
    "# This is not the same as previous comments\n",
    "comments = comments_section.find_elements(\"xpath\",'.//ytd-comment-thread-renderer')\n",
    "\n",
    "for comment in comments:\n",
    "    \n",
    "    content = get_content(comment)\n",
    "    df.loc[len(df)] = content\n",
    "    \n",
    "    try:\n",
    "        replies_section = comment.find_element(\"xpath\", \".//ytd-comment-replies-renderer\")\n",
    "        replies = replies_section.find_elements(\"xpath\", \".//ytd-comment-renderer\")\n",
    "        for reply in replies:\n",
    "            content = get_content(reply)\n",
    "            df.loc[len(df)] = content\n",
    "    except:\n",
    "        continue\n",
    "        \n",
    "# Fetchning the title of the video\n",
    "\n",
    "title_path = \"/html/body/ytd-app/div[1]/ytd-page-manager/ytd-watch-flexy/div[5]/div[1]/div/div[2]/ytd-watch-metadata/div/div[1]/h1/yt-formatted-string\"\n",
    "title = driver.find_element(\"xpath\", title_path).text\n",
    "\n",
    "print(df)"
   ]
  },
  {
   "cell_type": "code",
   "execution_count": 5,
   "id": "221756e5",
   "metadata": {},
   "outputs": [],
   "source": [
    "# close the chrome browser convert dataframe to csvMod\n",
    "\n",
    "driver.close()\n",
    "file = df.to_csv(\"new_file.csv\")"
   ]
  },
  {
   "cell_type": "code",
   "execution_count": 6,
   "id": "a1bc063d",
   "metadata": {},
   "outputs": [],
   "source": [
    "# Fetching the bucket name(in our case there is only one bucket)\n",
    "\n",
    "import boto3\n",
    "s3 = boto3.resource(\"s3\")\n",
    "\n",
    "bucket_name = ''\n",
    "\n",
    "for bucket in s3.buckets.all():\n",
    "    bucket_name = bucket.name"
   ]
  },
  {
   "cell_type": "code",
   "execution_count": 7,
   "id": "57f53a16",
   "metadata": {},
   "outputs": [],
   "source": [
    "# Uploading the comments in the csv file to our bucket\n",
    "\n",
    "s3_client = boto3.client(\"s3\")\n",
    "s3_client.upload_file(\n",
    "    Filename = \"new_file.csv\",\n",
    "    Bucket = bucket_name,\n",
    "    Key = title + \".csv\"\n",
    ")"
   ]
  }
 ],
 "metadata": {
  "kernelspec": {
   "display_name": "projenv",
   "language": "python",
   "name": "projenv"
  },
  "language_info": {
   "codemirror_mode": {
    "name": "ipython",
    "version": 3
   },
   "file_extension": ".py",
   "mimetype": "text/x-python",
   "name": "python",
   "nbconvert_exporter": "python",
   "pygments_lexer": "ipython3",
   "version": "3.10.9"
  }
 },
 "nbformat": 4,
 "nbformat_minor": 5
}

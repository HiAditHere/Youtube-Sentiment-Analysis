{
 "cells": [
  {
   "cell_type": "code",
   "execution_count": 1,
   "id": "62ec220c",
   "metadata": {},
   "outputs": [],
   "source": [
    "import pandas as pd\n",
    "import boto3"
   ]
  },
  {
   "cell_type": "code",
   "execution_count": 2,
   "id": "2fb775ee",
   "metadata": {},
   "outputs": [],
   "source": [
    "s3 = boto3.resource(\"s3\")\n",
    "\n",
    "for i in s3.buckets.all():\n",
    "    bucket_name = i.name"
   ]
  },
  {
   "cell_type": "code",
   "execution_count": 3,
   "id": "583448c6",
   "metadata": {},
   "outputs": [],
   "source": [
    "title = 'GRAND FINAL!! - FaZe vs LEGENDS - HIGHLIGHTS - SteelSeries CS2 Legends vs Champions 2023 | CSGO'\n",
    "\n",
    "s3_client = boto3.client(\"s3\")\n",
    "s3_client.download_file(\n",
    "    Filename = 'downloaded_file.csv',\n",
    "    Bucket = bucket_name,\n",
    "    Key = title + \".csv\"\n",
    ")"
   ]
  },
  {
   "cell_type": "code",
   "execution_count": 4,
   "id": "92ea9aa4",
   "metadata": {},
   "outputs": [],
   "source": [
    "df = pd.read_csv('downloaded_file.csv')"
   ]
  },
  {
   "cell_type": "code",
   "execution_count": 5,
   "id": "e33dd29a",
   "metadata": {},
   "outputs": [
    {
     "data": {
      "text/html": [
       "<div>\n",
       "<style scoped>\n",
       "    .dataframe tbody tr th:only-of-type {\n",
       "        vertical-align: middle;\n",
       "    }\n",
       "\n",
       "    .dataframe tbody tr th {\n",
       "        vertical-align: top;\n",
       "    }\n",
       "\n",
       "    .dataframe thead th {\n",
       "        text-align: right;\n",
       "    }\n",
       "</style>\n",
       "<table border=\"1\" class=\"dataframe\">\n",
       "  <thead>\n",
       "    <tr style=\"text-align: right;\">\n",
       "      <th></th>\n",
       "      <th>Unnamed: 0</th>\n",
       "      <th>Comments</th>\n",
       "    </tr>\n",
       "  </thead>\n",
       "  <tbody>\n",
       "    <tr>\n",
       "      <th>0</th>\n",
       "      <td>0</td>\n",
       "      <td>Give Guardian good team. He is still capable t...</td>\n",
       "    </tr>\n",
       "    <tr>\n",
       "      <th>1</th>\n",
       "      <td>1</td>\n",
       "      <td>GuardiaN's clutch vs his old teammates in roun...</td>\n",
       "    </tr>\n",
       "    <tr>\n",
       "      <th>2</th>\n",
       "      <td>2</td>\n",
       "      <td>Sad to see age has caught up with papitos reac...</td>\n",
       "    </tr>\n",
       "    <tr>\n",
       "      <th>3</th>\n",
       "      <td>3</td>\n",
       "      <td>Tbh he retired and any matches he plays are fo...</td>\n",
       "    </tr>\n",
       "    <tr>\n",
       "      <th>4</th>\n",
       "      <td>4</td>\n",
       "      <td>I wouldn't say it is his age. \\nMost of the ol...</td>\n",
       "    </tr>\n",
       "    <tr>\n",
       "      <th>...</th>\n",
       "      <td>...</td>\n",
       "      <td>...</td>\n",
       "    </tr>\n",
       "    <tr>\n",
       "      <th>143</th>\n",
       "      <td>143</td>\n",
       "      <td>@firefromhell5511  karrigan at his best, love...</td>\n",
       "    </tr>\n",
       "    <tr>\n",
       "      <th>144</th>\n",
       "      <td>144</td>\n",
       "      <td>@jaredsplatt8652  i agree</td>\n",
       "    </tr>\n",
       "    <tr>\n",
       "      <th>145</th>\n",
       "      <td>145</td>\n",
       "      <td>im sorry but allen is not a legend, and nbk is...</td>\n",
       "    </tr>\n",
       "    <tr>\n",
       "      <th>146</th>\n",
       "      <td>146</td>\n",
       "      <td>pasha was never good enough to be a pro, take ...</td>\n",
       "    </tr>\n",
       "    <tr>\n",
       "      <th>147</th>\n",
       "      <td>147</td>\n",
       "      <td>for the love all of that is holy, please fire ...</td>\n",
       "    </tr>\n",
       "  </tbody>\n",
       "</table>\n",
       "<p>148 rows × 2 columns</p>\n",
       "</div>"
      ],
      "text/plain": [
       "     Unnamed: 0                                           Comments\n",
       "0             0  Give Guardian good team. He is still capable t...\n",
       "1             1  GuardiaN's clutch vs his old teammates in roun...\n",
       "2             2  Sad to see age has caught up with papitos reac...\n",
       "3             3  Tbh he retired and any matches he plays are fo...\n",
       "4             4  I wouldn't say it is his age. \\nMost of the ol...\n",
       "..          ...                                                ...\n",
       "143         143   @firefromhell5511  karrigan at his best, love...\n",
       "144         144                          @jaredsplatt8652  i agree\n",
       "145         145  im sorry but allen is not a legend, and nbk is...\n",
       "146         146  pasha was never good enough to be a pro, take ...\n",
       "147         147  for the love all of that is holy, please fire ...\n",
       "\n",
       "[148 rows x 2 columns]"
      ]
     },
     "execution_count": 5,
     "metadata": {},
     "output_type": "execute_result"
    }
   ],
   "source": [
    "df"
   ]
  },
  {
   "cell_type": "code",
   "execution_count": 6,
   "id": "d127fd24",
   "metadata": {},
   "outputs": [],
   "source": [
    "df.drop(columns = [\"Unnamed: 0\"], inplace = True)"
   ]
  },
  {
   "cell_type": "code",
   "execution_count": 7,
   "id": "5f459c5f",
   "metadata": {},
   "outputs": [
    {
     "name": "stderr",
     "output_type": "stream",
     "text": [
      "C:\\Users\\aditb\\anaconda3\\envs\\projenv\\lib\\site-packages\\tqdm\\auto.py:21: TqdmWarning: IProgress not found. Please update jupyter and ipywidgets. See https://ipywidgets.readthedocs.io/en/stable/user_install.html\n",
      "  from .autonotebook import tqdm as notebook_tqdm\n"
     ]
    }
   ],
   "source": [
    "from flair.models import TextClassifier\n",
    "from flair.data import Sentence\n",
    "\n",
    "flair_sentiment = TextClassifier.load('en-sentiment')\n",
    "\n",
    "def sentiment_analyzer(sentence):\n",
    "    sent = Sentence(sentence)\n",
    "    flair_sentiment.predict(sent)\n",
    "    value = sent.labels[0].to_dict()[\"value\"]\n",
    "    confidence = sent.labels[0].to_dict()[\"confidence\"]\n",
    "    \n",
    "    if value == 'POSITIVE':\n",
    "        return confidence\n",
    "    else:\n",
    "        return (-1*confidence) \n",
    "\n",
    "df['Sentiment_value'] = df[\"Comments\"].apply(lambda x: sentiment_analyzer(x))"
   ]
  },
  {
   "cell_type": "code",
   "execution_count": 8,
   "id": "c4787fc1",
   "metadata": {},
   "outputs": [
    {
     "data": {
      "text/html": [
       "<div>\n",
       "<style scoped>\n",
       "    .dataframe tbody tr th:only-of-type {\n",
       "        vertical-align: middle;\n",
       "    }\n",
       "\n",
       "    .dataframe tbody tr th {\n",
       "        vertical-align: top;\n",
       "    }\n",
       "\n",
       "    .dataframe thead th {\n",
       "        text-align: right;\n",
       "    }\n",
       "</style>\n",
       "<table border=\"1\" class=\"dataframe\">\n",
       "  <thead>\n",
       "    <tr style=\"text-align: right;\">\n",
       "      <th></th>\n",
       "      <th>Comments</th>\n",
       "      <th>Sentiment_value</th>\n",
       "    </tr>\n",
       "  </thead>\n",
       "  <tbody>\n",
       "    <tr>\n",
       "      <th>0</th>\n",
       "      <td>Give Guardian good team. He is still capable t...</td>\n",
       "      <td>0.539228</td>\n",
       "    </tr>\n",
       "    <tr>\n",
       "      <th>1</th>\n",
       "      <td>GuardiaN's clutch vs his old teammates in roun...</td>\n",
       "      <td>0.998742</td>\n",
       "    </tr>\n",
       "    <tr>\n",
       "      <th>2</th>\n",
       "      <td>Sad to see age has caught up with papitos reac...</td>\n",
       "      <td>0.999232</td>\n",
       "    </tr>\n",
       "    <tr>\n",
       "      <th>3</th>\n",
       "      <td>Tbh he retired and any matches he plays are fo...</td>\n",
       "      <td>0.991294</td>\n",
       "    </tr>\n",
       "    <tr>\n",
       "      <th>4</th>\n",
       "      <td>I wouldn't say it is his age. \\nMost of the ol...</td>\n",
       "      <td>0.991777</td>\n",
       "    </tr>\n",
       "    <tr>\n",
       "      <th>...</th>\n",
       "      <td>...</td>\n",
       "      <td>...</td>\n",
       "    </tr>\n",
       "    <tr>\n",
       "      <th>143</th>\n",
       "      <td>@firefromhell5511  karrigan at his best, love...</td>\n",
       "      <td>0.992024</td>\n",
       "    </tr>\n",
       "    <tr>\n",
       "      <th>144</th>\n",
       "      <td>@jaredsplatt8652  i agree</td>\n",
       "      <td>0.966703</td>\n",
       "    </tr>\n",
       "    <tr>\n",
       "      <th>145</th>\n",
       "      <td>im sorry but allen is not a legend, and nbk is...</td>\n",
       "      <td>-0.880253</td>\n",
       "    </tr>\n",
       "    <tr>\n",
       "      <th>146</th>\n",
       "      <td>pasha was never good enough to be a pro, take ...</td>\n",
       "      <td>-0.999130</td>\n",
       "    </tr>\n",
       "    <tr>\n",
       "      <th>147</th>\n",
       "      <td>for the love all of that is holy, please fire ...</td>\n",
       "      <td>0.995600</td>\n",
       "    </tr>\n",
       "  </tbody>\n",
       "</table>\n",
       "<p>148 rows × 2 columns</p>\n",
       "</div>"
      ],
      "text/plain": [
       "                                              Comments  Sentiment_value\n",
       "0    Give Guardian good team. He is still capable t...         0.539228\n",
       "1    GuardiaN's clutch vs his old teammates in roun...         0.998742\n",
       "2    Sad to see age has caught up with papitos reac...         0.999232\n",
       "3    Tbh he retired and any matches he plays are fo...         0.991294\n",
       "4    I wouldn't say it is his age. \\nMost of the ol...         0.991777\n",
       "..                                                 ...              ...\n",
       "143   @firefromhell5511  karrigan at his best, love...         0.992024\n",
       "144                          @jaredsplatt8652  i agree         0.966703\n",
       "145  im sorry but allen is not a legend, and nbk is...        -0.880253\n",
       "146  pasha was never good enough to be a pro, take ...        -0.999130\n",
       "147  for the love all of that is holy, please fire ...         0.995600\n",
       "\n",
       "[148 rows x 2 columns]"
      ]
     },
     "execution_count": 8,
     "metadata": {},
     "output_type": "execute_result"
    }
   ],
   "source": [
    "df"
   ]
  },
  {
   "cell_type": "code",
   "execution_count": 9,
   "id": "34f314e2",
   "metadata": {},
   "outputs": [],
   "source": [
    "avg_sentiment = df['Sentiment_value'].mean()"
   ]
  },
  {
   "cell_type": "code",
   "execution_count": 10,
   "id": "37bbca9a",
   "metadata": {},
   "outputs": [
    {
     "data": {
      "text/plain": [
       "-0.09264171687332359"
      ]
     },
     "execution_count": 10,
     "metadata": {},
     "output_type": "execute_result"
    }
   ],
   "source": [
    "avg_sentiment"
   ]
  },
  {
   "cell_type": "code",
   "execution_count": null,
   "id": "590faf70",
   "metadata": {},
   "outputs": [],
   "source": []
  }
 ],
 "metadata": {
  "kernelspec": {
   "display_name": "projenv",
   "language": "python",
   "name": "projenv"
  },
  "language_info": {
   "codemirror_mode": {
    "name": "ipython",
    "version": 3
   },
   "file_extension": ".py",
   "mimetype": "text/x-python",
   "name": "python",
   "nbconvert_exporter": "python",
   "pygments_lexer": "ipython3",
   "version": "3.10.9"
  }
 },
 "nbformat": 4,
 "nbformat_minor": 5
}
